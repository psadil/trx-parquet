{
 "cells": [
  {
   "cell_type": "markdown",
   "metadata": {},
   "source": [
    "This notebook demonstrates a prototype of a TRX format that leverages the parquet format."
   ]
  },
  {
   "cell_type": "code",
   "execution_count": 9,
   "metadata": {},
   "outputs": [],
   "source": [
    "from trx_parquet import trxparquet"
   ]
  },
  {
   "cell_type": "markdown",
   "metadata": {},
   "source": [
    "The primary class is `TrxParquet`. It contains two key attributes, `header` and `data`. The attribute `header` is an attempt at storing a minimal amount of information necessary for processing and conversion to other formats. The `data` attribute is where most of the information is contained."
   ]
  },
  {
   "cell_type": "markdown",
   "metadata": {},
   "source": [
    "One quick way to get started is via `init_example_trxparquet`, which initializes trxparquet files with given characteristics and random data. For example, we can start with a representation of two streamlines, each having 3 points."
   ]
  },
  {
   "cell_type": "code",
   "execution_count": 10,
   "metadata": {},
   "outputs": [
    {
     "data": {
      "text/plain": [
       "TrxParquet(header=TrxHeader(DIMENSIONS=array([20, 20, 20], dtype=uint16), VOXEL_TO_RASMM=array([[20.,  0.,  0.,  0.],\n",
       "       [ 0., 20.,  0.,  0.],\n",
       "       [ 0.,  0., 20.,  0.],\n",
       "       [ 0.,  0.,  0.,  1.]], dtype=float32)), data=shape: (6, 4)\n",
       "┌──────────────────────┬──────────────────────┬──────────────────────┬──────────────────────┐\n",
       "│ protected_streamline ┆ protected_position_0 ┆ protected_position_1 ┆ protected_position_2 │\n",
       "│ ---                  ┆ ---                  ┆ ---                  ┆ ---                  │\n",
       "│ i64                  ┆ f64                  ┆ f64                  ┆ f64                  │\n",
       "╞══════════════════════╪══════════════════════╪══════════════════════╪══════════════════════╡\n",
       "│ 0                    ┆ 0.559016             ┆ 0.253217             ┆ 0.961                │\n",
       "│ 0                    ┆ 0.110607             ┆ 0.247859             ┆ 0.989746             │\n",
       "│ 0                    ┆ 0.309266             ┆ 0.266963             ┆ 0.505193             │\n",
       "│ 1                    ┆ 0.137039             ┆ 0.614394             ┆ 0.796459             │\n",
       "│ 1                    ┆ 0.301956             ┆ 0.818234             ┆ 0.850059             │\n",
       "│ 1                    ┆ 0.825572             ┆ 0.125561             ┆ 0.645223             │\n",
       "└──────────────────────┴──────────────────────┴──────────────────────┴──────────────────────┘)"
      ]
     },
     "execution_count": 10,
     "metadata": {},
     "output_type": "execute_result"
    }
   ],
   "source": [
    "trxparquet.init_example_trxparquet(2, 3)"
   ]
  },
  {
   "cell_type": "markdown",
   "metadata": {},
   "source": [
    "In the parquet file, the `header` is stored via frame-level metadata (e.g., of the kind readable by https://arrow.apache.org/docs/python/generated/pyarrow.parquet.read_metadata.html). The `header` will not be discussed further in this notebook. \n",
    "\n",
    "The `data` always contains at least four columns, each of which have the prefix \"protected_\". These columns represent \n",
    "- An index for streamline\n",
    "- 3 columns representing the coordinates of each point/vertex within each streamline. \n",
    "\n",
    "That is, rows in the data correspond to points or vertices."
   ]
  },
  {
   "cell_type": "markdown",
   "metadata": {},
   "source": [
    "Data that is associated with each streamline will be stored in a column that has a prefix \"dps_\". The function `init_example_trxparquet` can be used to create a this kind of column. The label with include a random string."
   ]
  },
  {
   "cell_type": "code",
   "execution_count": 11,
   "metadata": {},
   "outputs": [
    {
     "data": {
      "text/plain": [
       "TrxParquet(header=TrxHeader(DIMENSIONS=array([20, 20, 20], dtype=uint16), VOXEL_TO_RASMM=array([[20.,  0.,  0.,  0.],\n",
       "       [ 0., 20.,  0.,  0.],\n",
       "       [ 0.,  0., 20.,  0.],\n",
       "       [ 0.,  0.,  0.,  1.]], dtype=float32)), data=shape: (6, 5)\n",
       "┌─────────────────────┬─────────────────────┬────────────────────┬────────────────────┬────────────┐\n",
       "│ protected_streamlin ┆ protected_position_ ┆ protected_position ┆ protected_position ┆ dps_cntxha │\n",
       "│ e                   ┆ 0                   ┆ _1                 ┆ _2                 ┆ ---        │\n",
       "│ ---                 ┆ ---                 ┆ ---                ┆ ---                ┆ f64        │\n",
       "│ i64                 ┆ f64                 ┆ f64                ┆ f64                ┆            │\n",
       "╞═════════════════════╪═════════════════════╪════════════════════╪════════════════════╪════════════╡\n",
       "│ 0                   ┆ 0.526893            ┆ 0.21765            ┆ 0.941686           ┆ 0.429893   │\n",
       "│ 0                   ┆ 0.677424            ┆ 0.973536           ┆ 0.042573           ┆ 0.429893   │\n",
       "│ 0                   ┆ 0.695564            ┆ 0.579641           ┆ 0.213894           ┆ 0.429893   │\n",
       "│ 1                   ┆ 0.160073            ┆ 0.712179           ┆ 0.510654           ┆ 0.100904   │\n",
       "│ 1                   ┆ 0.267918            ┆ 0.485459           ┆ 0.542736           ┆ 0.100904   │\n",
       "│ 1                   ┆ 0.075908            ┆ 0.952729           ┆ 0.368896           ┆ 0.100904   │\n",
       "└─────────────────────┴─────────────────────┴────────────────────┴────────────────────┴────────────┘)"
      ]
     },
     "execution_count": 11,
     "metadata": {},
     "output_type": "execute_result"
    }
   ],
   "source": [
    "trxparquet.init_example_trxparquet(2, 3, 1)"
   ]
  },
  {
   "cell_type": "markdown",
   "metadata": {},
   "source": [
    "Analogously, data that is associated with individual points will have the prefix \"dpv_\"."
   ]
  },
  {
   "cell_type": "code",
   "execution_count": 12,
   "metadata": {},
   "outputs": [
    {
     "data": {
      "text/plain": [
       "TrxParquet(header=TrxHeader(DIMENSIONS=array([20, 20, 20], dtype=uint16), VOXEL_TO_RASMM=array([[20.,  0.,  0.,  0.],\n",
       "       [ 0., 20.,  0.,  0.],\n",
       "       [ 0.,  0., 20.,  0.],\n",
       "       [ 0.,  0.,  0.,  1.]], dtype=float32)), data=shape: (6, 6)\n",
       "┌──────────────────┬─────────────────┬─────────────────┬─────────────────┬────────────┬────────────┐\n",
       "│ protected_stream ┆ protected_posit ┆ protected_posit ┆ protected_posit ┆ dps_vpthvz ┆ dpv_ycunvm │\n",
       "│ line             ┆ ion_0           ┆ ion_1           ┆ ion_2           ┆ ---        ┆ ---        │\n",
       "│ ---              ┆ ---             ┆ ---             ┆ ---             ┆ f64        ┆ f64        │\n",
       "│ i64              ┆ f64             ┆ f64             ┆ f64             ┆            ┆            │\n",
       "╞══════════════════╪═════════════════╪═════════════════╪═════════════════╪════════════╪════════════╡\n",
       "│ 0                ┆ 0.405331        ┆ 0.358066        ┆ 0.856907        ┆ 0.187236   ┆ 0.873383   │\n",
       "│ 0                ┆ 0.219783        ┆ 0.605258        ┆ 0.796012        ┆ 0.187236   ┆ 0.589163   │\n",
       "│ 0                ┆ 0.687992        ┆ 0.683131        ┆ 0.632791        ┆ 0.187236   ┆ 0.760719   │\n",
       "│ 1                ┆ 0.641421        ┆ 0.14932         ┆ 0.926188        ┆ 0.054703   ┆ 0.801706   │\n",
       "│ 1                ┆ 0.017092        ┆ 0.118597        ┆ 0.045472        ┆ 0.054703   ┆ 0.555742   │\n",
       "│ 1                ┆ 0.265298        ┆ 0.191115        ┆ 0.74578         ┆ 0.054703   ┆ 0.386178   │\n",
       "└──────────────────┴─────────────────┴─────────────────┴─────────────────┴────────────┴────────────┘)"
      ]
     },
     "execution_count": 12,
     "metadata": {},
     "output_type": "execute_result"
    }
   ],
   "source": [
    "trxparquet.init_example_trxparquet(2, 3, 1, 1)"
   ]
  },
  {
   "cell_type": "markdown",
   "metadata": {},
   "source": [
    "To see this value in a more familiar format, they can be converted into `StatefulTractogram`s using the `to_stf()` method."
   ]
  },
  {
   "cell_type": "code",
   "execution_count": 13,
   "metadata": {},
   "outputs": [
    {
     "data": {
      "text/plain": [
       "ArraySequence([array([[0.04492556, 0.90927129, 0.94313624],\n",
       "       [0.63021004, 0.77843718, 0.77896697],\n",
       "       [0.34047226, 0.36103235, 0.47849451]]), array([[0.73950012, 0.36383573, 0.47686887],\n",
       "       [0.32364141, 0.34392213, 0.68513902],\n",
       "       [0.1677373 , 0.2484212 , 0.75261113]])])"
      ]
     },
     "execution_count": 13,
     "metadata": {},
     "output_type": "execute_result"
    }
   ],
   "source": [
    "stf = trxparquet.init_example_trxparquet(2, 3, 1, 1).to_stf()\n",
    "stf.streamlines"
   ]
  },
  {
   "cell_type": "markdown",
   "metadata": {},
   "source": [
    "The assumption is that, by relying on the parquet format, we get get to leverage all of the work that has gone into making this an efficient medium for analysis. For example, let's create a file that has 100000 streamlines, each with 100 points, checking the size of the file and how long it takes to load."
   ]
  },
  {
   "cell_type": "code",
   "execution_count": 14,
   "metadata": {},
   "outputs": [
    {
     "name": "stdout",
     "output_type": "stream",
     "text": [
      "size: 230MB\n",
      "reading time: 0.11250829696655273\n"
     ]
    }
   ],
   "source": [
    "import tempfile\n",
    "import time\n",
    "from pathlib import Path\n",
    "\n",
    "\n",
    "def human_size(bytes, units=[\" bytes\", \"KB\", \"MB\", \"GB\", \"TB\", \"PB\", \"EB\"]):\n",
    "    \"\"\"Returns a human readable string representation of bytes\"\"\"\n",
    "    return str(bytes) + units[0] if bytes < 1024 else human_size(bytes >> 10, units[1:])\n",
    "\n",
    "\n",
    "with tempfile.NamedTemporaryFile(suffix=\".parquet\") as _f:\n",
    "    f = Path(_f.name)\n",
    "    trx = trxparquet.init_example_trxparquet(100000, 100)\n",
    "    trx.to_file(f)\n",
    "    size = human_size(f.stat().st_size)\n",
    "    start = time.time()\n",
    "    trx2 = trx.from_file(f, loadtype=\"memory_map\")\n",
    "    end = time.time()\n",
    "\n",
    "print(f\"size: {size}\")\n",
    "print(f\"reading time: {end - start}\")\n",
    "\n",
    "trx2\n",
    "del trx, trx2"
   ]
  },
  {
   "cell_type": "markdown",
   "metadata": {},
   "source": [
    "There are different ways of loading parquet files, each optimized for different purposes. The previous cell loaded files as a memory map. If only some streamlines need to be processed (or only some columns), then Lazy loading has many advantages. See: https://pola-rs.github.io/polars/user-guide/concepts/lazy-vs-eager/ . The reading time for lazy loading is minimal, but we can still extract useful information from the result."
   ]
  },
  {
   "cell_type": "code",
   "execution_count": 15,
   "metadata": {},
   "outputs": [
    {
     "name": "stdout",
     "output_type": "stream",
     "text": [
      "reading time: 0.04939889907836914\n",
      "n_streamlines_in_file=100000\n"
     ]
    }
   ],
   "source": [
    "with tempfile.NamedTemporaryFile(suffix=\".parquet\") as _f:\n",
    "    f = Path(_f.name)\n",
    "    trx = trxparquet.init_example_trxparquet(100000, 100)\n",
    "    trx.to_file(f)\n",
    "    start = time.time()\n",
    "    n_streamlines_in_file = trx.from_file(f, loadtype=\"lazy\").n_streamlines\n",
    "    end = time.time()\n",
    "\n",
    "print(f\"reading time: {end - start}\")\n",
    "print(f\"{n_streamlines_in_file=}\")\n",
    "del trx"
   ]
  },
  {
   "cell_type": "markdown",
   "metadata": {},
   "source": [
    "Even when files are loaded into memory, the process is remains speedy."
   ]
  },
  {
   "cell_type": "code",
   "execution_count": 16,
   "metadata": {},
   "outputs": [
    {
     "name": "stdout",
     "output_type": "stream",
     "text": [
      "object_size=305.17578125 MB\n",
      "reading time: 0.1168370246887207\n"
     ]
    }
   ],
   "source": [
    "with tempfile.NamedTemporaryFile(suffix=\".parquet\") as _f:\n",
    "    f = Path(_f.name)\n",
    "    trx = trxparquet.init_example_trxparquet(100000, 100)\n",
    "    trx.to_file(f)\n",
    "    start = time.time()\n",
    "    trx2 = trx.from_file(f, loadtype=\"memory\")\n",
    "    end = time.time()\n",
    "\n",
    "object_size = trx2.data.estimated_size(\"mb\")\n",
    "print(f\"{object_size=} MB\")\n",
    "print(f\"reading time: {end - start}\")\n",
    "del trx, trx2"
   ]
  },
  {
   "cell_type": "markdown",
   "metadata": {},
   "source": [
    "For a few additional examples, please see the tests."
   ]
  },
  {
   "cell_type": "markdown",
   "metadata": {},
   "source": [
    "Note that, at the time of writing, no group-level information has been incorporated into the prototype."
   ]
  }
 ],
 "metadata": {
  "kernelspec": {
   "display_name": "trx-polars",
   "language": "python",
   "name": "python3"
  },
  "language_info": {
   "codemirror_mode": {
    "name": "ipython",
    "version": 3
   },
   "file_extension": ".py",
   "mimetype": "text/x-python",
   "name": "python",
   "nbconvert_exporter": "python",
   "pygments_lexer": "ipython3",
   "version": "3.10.6"
  }
 },
 "nbformat": 4,
 "nbformat_minor": 2
}

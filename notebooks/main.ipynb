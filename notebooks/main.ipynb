{
 "cells": [
  {
   "cell_type": "markdown",
   "metadata": {},
   "source": [
    "This notebook demonstrates a prototype of a TRX file that leverages the parquet format."
   ]
  },
  {
   "cell_type": "code",
   "execution_count": 91,
   "metadata": {},
   "outputs": [],
   "source": [
    "from trx_parquet import trxparquet"
   ]
  },
  {
   "cell_type": "markdown",
   "metadata": {},
   "source": [
    "The primary class is `TrxParquet`. It contains two key attributes, `header` and `data`. The attribute `header` aims to store the minimal amount of information necessary for processing and conversion to other formats (e.g., to a `StatefulTractogram`) . The `data` attribute contains most of the tractography information."
   ]
  },
  {
   "cell_type": "markdown",
   "metadata": {},
   "source": [
    "To get started, see `init_example_trxparquet`, which initializes in-memory representations of trxparquet files with given characteristics and random data. For example, we can initialize two streamlines, each having 3 points."
   ]
  },
  {
   "cell_type": "code",
   "execution_count": 92,
   "metadata": {},
   "outputs": [
    {
     "data": {
      "text/plain": [
       "TrxParquet(header=TrxHeader(DIMENSIONS=array([20, 20, 20], dtype=uint16), VOXEL_TO_RASMM=array([[20.,  0.,  0.,  0.],\n",
       "       [ 0., 20.,  0.,  0.],\n",
       "       [ 0.,  0., 20.,  0.],\n",
       "       [ 0.,  0.,  0.,  1.]], dtype=float32)), data=shape: (6, 4)\n",
       "┌──────────────────────┬──────────────────────┬──────────────────────┬──────────────────────┐\n",
       "│ protected_streamline ┆ protected_position_0 ┆ protected_position_1 ┆ protected_position_2 │\n",
       "│ ---                  ┆ ---                  ┆ ---                  ┆ ---                  │\n",
       "│ i64                  ┆ f64                  ┆ f64                  ┆ f64                  │\n",
       "╞══════════════════════╪══════════════════════╪══════════════════════╪══════════════════════╡\n",
       "│ 0                    ┆ 0.886957             ┆ 0.511609             ┆ 0.681791             │\n",
       "│ 0                    ┆ 0.218522             ┆ 0.586997             ┆ 0.386865             │\n",
       "│ 0                    ┆ 0.218095             ┆ 0.264409             ┆ 0.592367             │\n",
       "│ 1                    ┆ 0.625825             ┆ 0.815015             ┆ 0.364547             │\n",
       "│ 1                    ┆ 0.913843             ┆ 0.736551             ┆ 0.29279              │\n",
       "│ 1                    ┆ 0.591355             ┆ 0.813869             ┆ 0.445718             │\n",
       "└──────────────────────┴──────────────────────┴──────────────────────┴──────────────────────┘)"
      ]
     },
     "execution_count": 92,
     "metadata": {},
     "output_type": "execute_result"
    }
   ],
   "source": [
    "trxparquet.init_example_trxparquet(2, 3)"
   ]
  },
  {
   "cell_type": "markdown",
   "metadata": {},
   "source": [
    "In the trxparquet itself (on disk and in memory), the `header` is stored via frame-level metadata (e.g., of the kind readable by https://arrow.apache.org/docs/python/generated/pyarrow.parquet.read_metadata.html). \n",
    "\n",
    "The `data` attribute always contains at least four columns, each of which have the prefix \"protected_\". These columns represent \n",
    "- An index for streamline\n",
    "- 3 columns representing the coordinates of each point/vertex within each streamline. \n",
    "\n",
    "That is, rows in the data correspond to points or vertices."
   ]
  },
  {
   "cell_type": "markdown",
   "metadata": {},
   "source": [
    "Data that is associated with each streamline is stored in columns that have the prefix \"dps_\". The function `init_example_trxparquet` can be used to create a this kind of column. The column label includes a random string."
   ]
  },
  {
   "cell_type": "code",
   "execution_count": 93,
   "metadata": {},
   "outputs": [
    {
     "data": {
      "text/plain": [
       "TrxParquet(header=TrxHeader(DIMENSIONS=array([20, 20, 20], dtype=uint16), VOXEL_TO_RASMM=array([[20.,  0.,  0.,  0.],\n",
       "       [ 0., 20.,  0.,  0.],\n",
       "       [ 0.,  0., 20.,  0.],\n",
       "       [ 0.,  0.,  0.,  1.]], dtype=float32)), data=shape: (6, 5)\n",
       "┌─────────────────────┬─────────────────────┬────────────────────┬────────────────────┬────────────┐\n",
       "│ protected_streamlin ┆ protected_position_ ┆ protected_position ┆ protected_position ┆ dps_ynfmih │\n",
       "│ e                   ┆ 0                   ┆ _1                 ┆ _2                 ┆ ---        │\n",
       "│ ---                 ┆ ---                 ┆ ---                ┆ ---                ┆ f64        │\n",
       "│ i64                 ┆ f64                 ┆ f64                ┆ f64                ┆            │\n",
       "╞═════════════════════╪═════════════════════╪════════════════════╪════════════════════╪════════════╡\n",
       "│ 0                   ┆ 0.761694            ┆ 0.567196           ┆ 0.135165           ┆ 0.457689   │\n",
       "│ 0                   ┆ 0.937891            ┆ 0.692179           ┆ 0.583951           ┆ 0.457689   │\n",
       "│ 0                   ┆ 0.839152            ┆ 0.190209           ┆ 0.102879           ┆ 0.457689   │\n",
       "│ 1                   ┆ 0.722892            ┆ 0.513695           ┆ 0.456894           ┆ 0.243771   │\n",
       "│ 1                   ┆ 0.153885            ┆ 0.055613           ┆ 0.936979           ┆ 0.243771   │\n",
       "│ 1                   ┆ 0.786637            ┆ 0.40553            ┆ 0.114097           ┆ 0.243771   │\n",
       "└─────────────────────┴─────────────────────┴────────────────────┴────────────────────┴────────────┘)"
      ]
     },
     "execution_count": 93,
     "metadata": {},
     "output_type": "execute_result"
    }
   ],
   "source": [
    "trxparquet.init_example_trxparquet(2, 3, 1)"
   ]
  },
  {
   "cell_type": "markdown",
   "metadata": {},
   "source": [
    "Analogously, data that is associated with individual points will have the prefix \"dpv_\"."
   ]
  },
  {
   "cell_type": "code",
   "execution_count": 94,
   "metadata": {},
   "outputs": [
    {
     "data": {
      "text/plain": [
       "TrxParquet(header=TrxHeader(DIMENSIONS=array([20, 20, 20], dtype=uint16), VOXEL_TO_RASMM=array([[20.,  0.,  0.,  0.],\n",
       "       [ 0., 20.,  0.,  0.],\n",
       "       [ 0.,  0., 20.,  0.],\n",
       "       [ 0.,  0.,  0.,  1.]], dtype=float32)), data=shape: (6, 6)\n",
       "┌──────────────────┬─────────────────┬─────────────────┬─────────────────┬────────────┬────────────┐\n",
       "│ protected_stream ┆ protected_posit ┆ protected_posit ┆ protected_posit ┆ dps_bofytm ┆ dpv_vawpxa │\n",
       "│ line             ┆ ion_0           ┆ ion_1           ┆ ion_2           ┆ ---        ┆ ---        │\n",
       "│ ---              ┆ ---             ┆ ---             ┆ ---             ┆ f64        ┆ f64        │\n",
       "│ i64              ┆ f64             ┆ f64             ┆ f64             ┆            ┆            │\n",
       "╞══════════════════╪═════════════════╪═════════════════╪═════════════════╪════════════╪════════════╡\n",
       "│ 0                ┆ 0.62714         ┆ 0.592945        ┆ 0.997131        ┆ 0.607404   ┆ 0.794856   │\n",
       "│ 0                ┆ 0.489306        ┆ 0.57862         ┆ 0.402345        ┆ 0.607404   ┆ 0.188148   │\n",
       "│ 0                ┆ 0.440054        ┆ 0.224031        ┆ 0.206849        ┆ 0.607404   ┆ 0.553288   │\n",
       "│ 1                ┆ 0.742795        ┆ 0.374426        ┆ 0.85283         ┆ 0.972768   ┆ 0.08308    │\n",
       "│ 1                ┆ 0.240817        ┆ 0.397398        ┆ 0.515428        ┆ 0.972768   ┆ 0.173378   │\n",
       "│ 1                ┆ 0.439452        ┆ 0.767673        ┆ 0.436299        ┆ 0.972768   ┆ 0.416677   │\n",
       "└──────────────────┴─────────────────┴─────────────────┴─────────────────┴────────────┴────────────┘)"
      ]
     },
     "execution_count": 94,
     "metadata": {},
     "output_type": "execute_result"
    }
   ],
   "source": [
    "trx = trxparquet.init_example_trxparquet(2, 3, 1, 1)\n",
    "trx"
   ]
  },
  {
   "cell_type": "markdown",
   "metadata": {},
   "source": [
    "The class definition currently includes examples of how to convert `data` into other formats. For example, we can check the property `data_per_streamline`."
   ]
  },
  {
   "cell_type": "code",
   "execution_count": 95,
   "metadata": {},
   "outputs": [
    {
     "data": {
      "text/plain": [
       "{'bofytm': array([0.9727684 , 0.60740444])}"
      ]
     },
     "execution_count": 95,
     "metadata": {},
     "output_type": "execute_result"
    }
   ],
   "source": [
    "trx.data_per_streamline"
   ]
  },
  {
   "cell_type": "markdown",
   "metadata": {},
   "source": [
    "These objects can also be converted into `StatefulTractogram`s using the `to_stf()` method."
   ]
  },
  {
   "cell_type": "code",
   "execution_count": 96,
   "metadata": {},
   "outputs": [
    {
     "data": {
      "text/plain": [
       "ArraySequence([array([[0.28870602, 0.43758523, 0.15972837],\n",
       "       [0.65761323, 0.39831989, 0.24500418],\n",
       "       [0.64848465, 0.69655722, 0.64262058]]), array([[0.5733209 , 0.48971976, 0.5053223 ],\n",
       "       [0.50369543, 0.81282779, 0.98194359],\n",
       "       [0.30017676, 0.41015602, 0.01789065]])])"
      ]
     },
     "execution_count": 96,
     "metadata": {},
     "output_type": "execute_result"
    }
   ],
   "source": [
    "stf = trxparquet.init_example_trxparquet(2, 3, 1, 1).to_stf()\n",
    "stf.streamlines"
   ]
  },
  {
   "cell_type": "markdown",
   "metadata": {},
   "source": [
    "The assumption is that, by relying on the parquet format, we get get to leverage all of the work that has gone into making this an efficient medium for analysis. For example, let's create a file that has 100000 streamlines, each with 100 points, checking the size of the file and how long it takes to load as a memory map."
   ]
  },
  {
   "cell_type": "code",
   "execution_count": 97,
   "metadata": {},
   "outputs": [
    {
     "name": "stdout",
     "output_type": "stream",
     "text": [
      "size: 2GB\n",
      "reading time: 4.177608013153076\n"
     ]
    }
   ],
   "source": [
    "import tempfile\n",
    "import time\n",
    "from pathlib import Path\n",
    "\n",
    "\n",
    "def human_size(bytes, units=[\" bytes\", \"KB\", \"MB\", \"GB\", \"TB\", \"PB\", \"EB\"]):\n",
    "    \"\"\"Returns a human readable string representation of bytes\"\"\"\n",
    "    return (\n",
    "        str(bytes) + units[0]\n",
    "        if bytes < 1024\n",
    "        else human_size(bytes >> 10, units[1:])\n",
    "    )\n",
    "\n",
    "\n",
    "with tempfile.NamedTemporaryFile(suffix=\".parquet\") as _f:\n",
    "    f = Path(_f.name)\n",
    "    trx = trxparquet.init_example_trxparquet(1000000, 100)\n",
    "    trx.to_file(f)\n",
    "    size = human_size(f.stat().st_size)\n",
    "    start = time.time()\n",
    "    trx2 = trx.from_file(f, loadtype=\"memory_map\")\n",
    "    end = time.time()\n",
    "\n",
    "print(f\"size: {size}\")\n",
    "print(f\"reading time: {end - start}\")\n",
    "\n",
    "trx2\n",
    "del trx, trx2"
   ]
  },
  {
   "cell_type": "markdown",
   "metadata": {},
   "source": [
    "There are different ways of loading parquet files, each optimized for different purposes. The previous cell loaded files as a memory map. If only some streamlines need to be processed (or only some columns), then Lazy loading has many advantages. See: https://pola-rs.github.io/polars/user-guide/concepts/lazy-vs-eager/ . The reading time for lazy loading is minimal, but we can still extract useful information from the result."
   ]
  },
  {
   "cell_type": "code",
   "execution_count": 98,
   "metadata": {},
   "outputs": [
    {
     "name": "stdout",
     "output_type": "stream",
     "text": [
      "reading time: 0.5427520275115967\n",
      "n_streamlines_in_file=1000000\n"
     ]
    }
   ],
   "source": [
    "with tempfile.NamedTemporaryFile(suffix=\".parquet\") as _f:\n",
    "    f = Path(_f.name)\n",
    "    trx = trxparquet.init_example_trxparquet(1000000, 100)\n",
    "    trx.to_file(f)\n",
    "    start = time.time()\n",
    "    n_streamlines_in_file = trx.from_file(f, loadtype=\"lazy\").n_streamlines\n",
    "    end = time.time()\n",
    "\n",
    "print(f\"reading time: {end - start}\")\n",
    "print(f\"{n_streamlines_in_file=}\")\n",
    "del trx"
   ]
  },
  {
   "cell_type": "markdown",
   "metadata": {},
   "source": [
    "Even when files are loaded into memory, the process is remains speedy."
   ]
  },
  {
   "cell_type": "code",
   "execution_count": 99,
   "metadata": {},
   "outputs": [
    {
     "name": "stdout",
     "output_type": "stream",
     "text": [
      "object_size=3051.7578125 MB\n",
      "reading time: 1.521975040435791\n"
     ]
    }
   ],
   "source": [
    "with tempfile.NamedTemporaryFile(suffix=\".parquet\") as _f:\n",
    "    f = Path(_f.name)\n",
    "    trx = trxparquet.init_example_trxparquet(1000000, 100)\n",
    "    trx.to_file(f)\n",
    "    start = time.time()\n",
    "    trx2 = trx.from_file(f, loadtype=\"memory\")\n",
    "    end = time.time()\n",
    "\n",
    "object_size = trx2.data.estimated_size(\"mb\")\n",
    "print(f\"{object_size=} MB\")\n",
    "print(f\"reading time: {end - start}\")\n",
    "del trx, trx2"
   ]
  },
  {
   "cell_type": "markdown",
   "metadata": {},
   "source": [
    "For a few additional examples, please see the tests."
   ]
  },
  {
   "cell_type": "markdown",
   "metadata": {},
   "source": [
    "Note that, at the time of writing, no group-level information has been incorporated into the prototype."
   ]
  }
 ],
 "metadata": {
  "kernelspec": {
   "display_name": "trx-polars",
   "language": "python",
   "name": "python3"
  },
  "language_info": {
   "codemirror_mode": {
    "name": "ipython",
    "version": 3
   },
   "file_extension": ".py",
   "mimetype": "text/x-python",
   "name": "python",
   "nbconvert_exporter": "python",
   "pygments_lexer": "ipython3",
   "version": "3.10.6"
  }
 },
 "nbformat": 4,
 "nbformat_minor": 2
}

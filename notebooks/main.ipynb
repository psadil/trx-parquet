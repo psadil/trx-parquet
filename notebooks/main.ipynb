{
 "cells": [
  {
   "cell_type": "markdown",
   "metadata": {},
   "source": [
    "This notebook demonstrates a prototype of a TRX format that leverages the parquet format."
   ]
  },
  {
   "cell_type": "code",
   "execution_count": 1,
   "metadata": {},
   "outputs": [],
   "source": [
    "from trx_polars import trxparquet"
   ]
  },
  {
   "cell_type": "markdown",
   "metadata": {},
   "source": [
    "The primary class is `TrxParquet`. It contains two key attributes, `header` and `data`. The attribute `header` is an attempt at storing a minimal amount of information necessary for processing and conversion to other formats. The `data` attribute is where most of the information is contained."
   ]
  },
  {
   "cell_type": "markdown",
   "metadata": {},
   "source": [
    "One quick way to get started is via `init_example_trxparquet`, which initializes trxparquet files with given characteristics and random data. For example, we can start with a representation of two streamlines, each having 3 points."
   ]
  },
  {
   "cell_type": "code",
   "execution_count": 2,
   "metadata": {},
   "outputs": [
    {
     "data": {
      "text/plain": [
       "TrxParquet(header=TrxHeader(DIMENSIONS=array([20, 20, 20], dtype=uint16), VOXEL_TO_RASMM=array([[20.,  0.,  0.,  0.],\n",
       "       [ 0., 20.,  0.,  0.],\n",
       "       [ 0.,  0., 20.,  0.],\n",
       "       [ 0.,  0.,  0.,  1.]], dtype=float32)), data=shape: (6, 4)\n",
       "┌──────────────────────┬──────────────────────┬──────────────────────┬──────────────────────┐\n",
       "│ protected_streamline ┆ protected_position_0 ┆ protected_position_1 ┆ protected_position_2 │\n",
       "│ ---                  ┆ ---                  ┆ ---                  ┆ ---                  │\n",
       "│ i64                  ┆ f64                  ┆ f64                  ┆ f64                  │\n",
       "╞══════════════════════╪══════════════════════╪══════════════════════╪══════════════════════╡\n",
       "│ 0                    ┆ 0.448707             ┆ 0.526922             ┆ 0.146535             │\n",
       "│ 0                    ┆ 0.925829             ┆ 0.184845             ┆ 0.762281             │\n",
       "│ 0                    ┆ 0.176739             ┆ 0.202632             ┆ 0.701005             │\n",
       "│ 1                    ┆ 0.522253             ┆ 0.200245             ┆ 0.807187             │\n",
       "│ 1                    ┆ 0.107754             ┆ 0.823511             ┆ 0.234586             │\n",
       "│ 1                    ┆ 0.342229             ┆ 0.758641             ┆ 0.154796             │\n",
       "└──────────────────────┴──────────────────────┴──────────────────────┴──────────────────────┘)"
      ]
     },
     "execution_count": 2,
     "metadata": {},
     "output_type": "execute_result"
    }
   ],
   "source": [
    "trxparquet.init_example_trxparquet(2, 3)"
   ]
  },
  {
   "cell_type": "markdown",
   "metadata": {},
   "source": [
    "In the parquet file, the `header` is stored via frame-level metadata (e.g., of the kind readable by https://arrow.apache.org/docs/python/generated/pyarrow.parquet.read_metadata.html). The `header` will not be discussed further in this notebook. \n",
    "\n",
    "The `data` always contains at least four columns, each of which have the prefix \"protected_\". These columns represent \n",
    "- An index for streamline\n",
    "- 3 columns representing the coordinates of each point/vertex within each streamline. \n",
    "\n",
    "That is, rows in the data correspond to points or vertices."
   ]
  },
  {
   "cell_type": "markdown",
   "metadata": {},
   "source": [
    "Data that is associated with each streamline will be stored in a column that has a prefix \"dps_\". The function `init_example_trxparquet` can be used to create a this kind of column. The label with include a random string."
   ]
  },
  {
   "cell_type": "code",
   "execution_count": 3,
   "metadata": {},
   "outputs": [
    {
     "data": {
      "text/plain": [
       "TrxParquet(header=TrxHeader(DIMENSIONS=array([20, 20, 20], dtype=uint16), VOXEL_TO_RASMM=array([[20.,  0.,  0.,  0.],\n",
       "       [ 0., 20.,  0.,  0.],\n",
       "       [ 0.,  0., 20.,  0.],\n",
       "       [ 0.,  0.,  0.,  1.]], dtype=float32)), data=shape: (6, 5)\n",
       "┌─────────────────────┬─────────────────────┬────────────────────┬────────────────────┬────────────┐\n",
       "│ protected_streamlin ┆ protected_position_ ┆ protected_position ┆ protected_position ┆ dps_ahtcbm │\n",
       "│ e                   ┆ 0                   ┆ _1                 ┆ _2                 ┆ ---        │\n",
       "│ ---                 ┆ ---                 ┆ ---                ┆ ---                ┆ f64        │\n",
       "│ i64                 ┆ f64                 ┆ f64                ┆ f64                ┆            │\n",
       "╞═════════════════════╪═════════════════════╪════════════════════╪════════════════════╪════════════╡\n",
       "│ 0                   ┆ 0.886641            ┆ 0.521663           ┆ 0.247088           ┆ 0.43597    │\n",
       "│ 0                   ┆ 0.125199            ┆ 0.879535           ┆ 0.64345            ┆ 0.43597    │\n",
       "│ 0                   ┆ 0.628002            ┆ 0.836387           ┆ 0.606545           ┆ 0.43597    │\n",
       "│ 1                   ┆ 0.343204            ┆ 0.734177           ┆ 0.493413           ┆ 0.334803   │\n",
       "│ 1                   ┆ 0.544373            ┆ 0.609662           ┆ 0.9844             ┆ 0.334803   │\n",
       "│ 1                   ┆ 0.279552            ┆ 0.830803           ┆ 0.380077           ┆ 0.334803   │\n",
       "└─────────────────────┴─────────────────────┴────────────────────┴────────────────────┴────────────┘)"
      ]
     },
     "execution_count": 3,
     "metadata": {},
     "output_type": "execute_result"
    }
   ],
   "source": [
    "trxparquet.init_example_trxparquet(2, 3, 1)"
   ]
  },
  {
   "cell_type": "markdown",
   "metadata": {},
   "source": [
    "Analogously, data that is associated with individual points will have the prefix \"dpv_\"."
   ]
  },
  {
   "cell_type": "code",
   "execution_count": 4,
   "metadata": {},
   "outputs": [
    {
     "data": {
      "text/plain": [
       "TrxParquet(header=TrxHeader(DIMENSIONS=array([20, 20, 20], dtype=uint16), VOXEL_TO_RASMM=array([[20.,  0.,  0.,  0.],\n",
       "       [ 0., 20.,  0.,  0.],\n",
       "       [ 0.,  0., 20.,  0.],\n",
       "       [ 0.,  0.,  0.,  1.]], dtype=float32)), data=shape: (6, 6)\n",
       "┌──────────────────┬─────────────────┬─────────────────┬─────────────────┬────────────┬────────────┐\n",
       "│ protected_stream ┆ protected_posit ┆ protected_posit ┆ protected_posit ┆ dps_alczhe ┆ dpv_uqynzi │\n",
       "│ line             ┆ ion_0           ┆ ion_1           ┆ ion_2           ┆ ---        ┆ ---        │\n",
       "│ ---              ┆ ---             ┆ ---             ┆ ---             ┆ f64        ┆ f64        │\n",
       "│ i64              ┆ f64             ┆ f64             ┆ f64             ┆            ┆            │\n",
       "╞══════════════════╪═════════════════╪═════════════════╪═════════════════╪════════════╪════════════╡\n",
       "│ 0                ┆ 0.734908        ┆ 0.304299        ┆ 0.640699        ┆ 0.246523   ┆ 0.041026   │\n",
       "│ 0                ┆ 0.080363        ┆ 0.441091        ┆ 0.928194        ┆ 0.246523   ┆ 0.845367   │\n",
       "│ 0                ┆ 0.493776        ┆ 0.23617         ┆ 0.572395        ┆ 0.246523   ┆ 0.576177   │\n",
       "│ 1                ┆ 0.001324        ┆ 0.783286        ┆ 0.531687        ┆ 0.099855   ┆ 0.235818   │\n",
       "│ 1                ┆ 0.338165        ┆ 0.39705         ┆ 0.638412        ┆ 0.099855   ┆ 0.327221   │\n",
       "│ 1                ┆ 0.111299        ┆ 0.593596        ┆ 0.205811        ┆ 0.099855   ┆ 0.441901   │\n",
       "└──────────────────┴─────────────────┴─────────────────┴─────────────────┴────────────┴────────────┘)"
      ]
     },
     "execution_count": 4,
     "metadata": {},
     "output_type": "execute_result"
    }
   ],
   "source": [
    "trxparquet.init_example_trxparquet(2, 3, 1, 1)"
   ]
  },
  {
   "cell_type": "markdown",
   "metadata": {},
   "source": [
    "To see this value in a more familiar format, they can be converted into `StatefulTractogram`s using the `to_stf()` method."
   ]
  },
  {
   "cell_type": "code",
   "execution_count": 5,
   "metadata": {},
   "outputs": [
    {
     "data": {
      "text/plain": [
       "ArraySequence([array([[0.94635898, 0.85049711, 0.51803166],\n",
       "       [0.25558301, 0.33324491, 0.68452373],\n",
       "       [0.15770856, 0.97145055, 0.40997666]]), array([[0.5238964 , 0.21003059, 0.55388576],\n",
       "       [0.16877643, 0.7876155 , 0.92684308],\n",
       "       [0.3443854 , 0.79540141, 0.8014279 ]])])"
      ]
     },
     "execution_count": 5,
     "metadata": {},
     "output_type": "execute_result"
    }
   ],
   "source": [
    "stf = trxparquet.init_example_trxparquet(2, 3, 1, 1).to_stf()\n",
    "stf.streamlines"
   ]
  },
  {
   "cell_type": "markdown",
   "metadata": {},
   "source": [
    "The assumption is that, by relying on the parquet format, we get get to leverage all of the work that has gone into making this an efficient medium for analysis. For example, let's create a file that has 100000 streamlines, each with 100 points, checking the size of the file and how long it takes to load."
   ]
  },
  {
   "cell_type": "code",
   "execution_count": 6,
   "metadata": {},
   "outputs": [
    {
     "name": "stdout",
     "output_type": "stream",
     "text": [
      "size: 230MB\n",
      "reading time: 0.13715624809265137\n"
     ]
    }
   ],
   "source": [
    "import tempfile\n",
    "import time\n",
    "from pathlib import Path\n",
    "\n",
    "\n",
    "def human_size(bytes, units=[\" bytes\", \"KB\", \"MB\", \"GB\", \"TB\", \"PB\", \"EB\"]):\n",
    "    \"\"\"Returns a human readable string representation of bytes\"\"\"\n",
    "    return str(bytes) + units[0] if bytes < 1024 else human_size(bytes >> 10, units[1:])\n",
    "\n",
    "\n",
    "with tempfile.NamedTemporaryFile(suffix=\".parquet\") as _f:\n",
    "    f = Path(_f.name)\n",
    "    trx = trxparquet.init_example_trxparquet(100000, 100)\n",
    "    trx.to_file(f)\n",
    "    size = human_size(f.stat().st_size)\n",
    "    start = time.time()\n",
    "    trx2 = trx.from_file(f, loadtype=\"memory_map\")\n",
    "    end = time.time()\n",
    "\n",
    "print(f\"size: {size}\")\n",
    "print(f\"reading time: {end - start}\")\n",
    "\n",
    "trx2\n",
    "del trx, trx2"
   ]
  },
  {
   "cell_type": "markdown",
   "metadata": {},
   "source": [
    "There are different ways of loading parquet files, each optimized for different purposes. The previous cell loaded files as a memory map. If only some streamlines need to be processed (or only some columns), then Lazy loading has many advantages. See: https://pola-rs.github.io/polars/user-guide/concepts/lazy-vs-eager/ . The reading time for lazy loading is minimal, but we can still extract useful information from the result."
   ]
  },
  {
   "cell_type": "code",
   "execution_count": 7,
   "metadata": {},
   "outputs": [
    {
     "name": "stdout",
     "output_type": "stream",
     "text": [
      "reading time: 0.04859614372253418\n",
      "n_streamlines_in_file=100000\n"
     ]
    }
   ],
   "source": [
    "with tempfile.NamedTemporaryFile(suffix=\".parquet\") as _f:\n",
    "    f = Path(_f.name)\n",
    "    trx = trxparquet.init_example_trxparquet(100000, 100)\n",
    "    trx.to_file(f)\n",
    "    start = time.time()\n",
    "    n_streamlines_in_file = trx.from_file(f, loadtype=\"lazy\").n_streamlines\n",
    "    end = time.time()\n",
    "\n",
    "print(f\"reading time: {end - start}\")\n",
    "print(f\"{n_streamlines_in_file=}\")\n",
    "del trx"
   ]
  },
  {
   "cell_type": "markdown",
   "metadata": {},
   "source": [
    "Even when files are loaded into memory, the process is remains speedy."
   ]
  },
  {
   "cell_type": "code",
   "execution_count": 8,
   "metadata": {},
   "outputs": [
    {
     "name": "stdout",
     "output_type": "stream",
     "text": [
      "object_size=305.17578125 MB\n",
      "reading time: 0.11124205589294434\n"
     ]
    }
   ],
   "source": [
    "with tempfile.NamedTemporaryFile(suffix=\".parquet\") as _f:\n",
    "    f = Path(_f.name)\n",
    "    trx = trxparquet.init_example_trxparquet(100000, 100)\n",
    "    trx.to_file(f)\n",
    "    start = time.time()\n",
    "    trx2 = trx.from_file(f, loadtype=\"memory\")\n",
    "    end = time.time()\n",
    "\n",
    "object_size = trx2.data.estimated_size(\"mb\")\n",
    "print(f\"{object_size=} MB\")\n",
    "print(f\"reading time: {end - start}\")\n",
    "del trx, trx2"
   ]
  },
  {
   "cell_type": "markdown",
   "metadata": {},
   "source": [
    "For a few additional examples, please see the tests."
   ]
  },
  {
   "cell_type": "markdown",
   "metadata": {},
   "source": [
    "Note that, at the time of writing, no group-level information has been incorporated into the prototype."
   ]
  }
 ],
 "metadata": {
  "kernelspec": {
   "display_name": "trx-polars",
   "language": "python",
   "name": "python3"
  },
  "language_info": {
   "codemirror_mode": {
    "name": "ipython",
    "version": 3
   },
   "file_extension": ".py",
   "mimetype": "text/x-python",
   "name": "python",
   "nbconvert_exporter": "python",
   "pygments_lexer": "ipython3",
   "version": "3.10.6"
  }
 },
 "nbformat": 4,
 "nbformat_minor": 2
}

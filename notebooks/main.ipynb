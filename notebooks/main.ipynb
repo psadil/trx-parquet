{
 "cells": [
  {
   "cell_type": "markdown",
   "metadata": {},
   "source": [
    "This notebook demonstrates a prototype of a TRX file that leverages the parquet format."
   ]
  },
  {
   "cell_type": "code",
   "execution_count": 204,
   "metadata": {},
   "outputs": [],
   "source": [
    "from trx_parquet import trxparquet"
   ]
  },
  {
   "cell_type": "markdown",
   "metadata": {},
   "source": [
    "The primary class is `TrxParquet`. It contains two key attributes, `header` and `data`. The attribute `header` aims to store the minimal amount of information necessary for processing and conversion to other formats (e.g., to a `StatefulTractogram`) . The `data` attribute contains most of the tractography information."
   ]
  },
  {
   "cell_type": "markdown",
   "metadata": {},
   "source": [
    "To get started, see `init_example_trxparquet`, which initializes in-memory representations of trxparquet files with given characteristics and random data. For example, we can initialize two streamlines, each having 3 points."
   ]
  },
  {
   "cell_type": "code",
   "execution_count": 205,
   "metadata": {},
   "outputs": [
    {
     "data": {
      "text/plain": [
       "TrxParquet(header=TrxHeader(DIMENSIONS=array([20, 20, 20], dtype=uint16), VOXEL_TO_RASMM=array([[20.,  0.,  0.,  0.],\n",
       "       [ 0., 20.,  0.,  0.],\n",
       "       [ 0.,  0., 20.,  0.],\n",
       "       [ 0.,  0.,  0.,  1.]], dtype=float32)), data=shape: (6, 4)\n",
       "┌──────────────────────┬──────────────────────┬──────────────────────┬──────────────────────┐\n",
       "│ protected_streamline ┆ protected_position_0 ┆ protected_position_1 ┆ protected_position_2 │\n",
       "│ ---                  ┆ ---                  ┆ ---                  ┆ ---                  │\n",
       "│ i64                  ┆ f64                  ┆ f64                  ┆ f64                  │\n",
       "╞══════════════════════╪══════════════════════╪══════════════════════╪══════════════════════╡\n",
       "│ 0                    ┆ 0.809122             ┆ 0.434179             ┆ 0.268171             │\n",
       "│ 0                    ┆ 0.824715             ┆ 0.731883             ┆ 0.06977              │\n",
       "│ 0                    ┆ 0.909729             ┆ 0.755341             ┆ 0.20684              │\n",
       "│ 1                    ┆ 0.360148             ┆ 0.964062             ┆ 0.266274             │\n",
       "│ 1                    ┆ 0.843724             ┆ 0.714131             ┆ 0.981314             │\n",
       "│ 1                    ┆ 0.443106             ┆ 0.804208             ┆ 0.663988             │\n",
       "└──────────────────────┴──────────────────────┴──────────────────────┴──────────────────────┘)"
      ]
     },
     "execution_count": 205,
     "metadata": {},
     "output_type": "execute_result"
    }
   ],
   "source": [
    "trxparquet.init_example_trxparquet(2, 3)"
   ]
  },
  {
   "cell_type": "markdown",
   "metadata": {},
   "source": [
    "In the trxparquet itself (on disk and in memory), the `header` is stored via frame-level metadata (e.g., of the kind readable by https://arrow.apache.org/docs/python/generated/pyarrow.parquet.read_metadata.html). \n",
    "\n",
    "The `data` attribute always contains at least four columns, each of which have the prefix \"protected_\". These columns represent \n",
    "- An index for streamline\n",
    "- 3 columns representing the coordinates of each point/vertex within each streamline. \n",
    "\n",
    "That is, rows in the data correspond to points or vertices."
   ]
  },
  {
   "cell_type": "markdown",
   "metadata": {},
   "source": [
    "Data that is associated with each streamline is stored in columns that have the prefix \"dps_\". The function `init_example_trxparquet` can be used to create a this kind of column. The column label includes a random string."
   ]
  },
  {
   "cell_type": "code",
   "execution_count": 206,
   "metadata": {},
   "outputs": [
    {
     "data": {
      "text/plain": [
       "TrxParquet(header=TrxHeader(DIMENSIONS=array([20, 20, 20], dtype=uint16), VOXEL_TO_RASMM=array([[20.,  0.,  0.,  0.],\n",
       "       [ 0., 20.,  0.,  0.],\n",
       "       [ 0.,  0., 20.,  0.],\n",
       "       [ 0.,  0.,  0.,  1.]], dtype=float32)), data=shape: (6, 5)\n",
       "┌─────────────────────┬─────────────────────┬────────────────────┬────────────────────┬────────────┐\n",
       "│ protected_streamlin ┆ protected_position_ ┆ protected_position ┆ protected_position ┆ dps_urtupb │\n",
       "│ e                   ┆ 0                   ┆ _1                 ┆ _2                 ┆ ---        │\n",
       "│ ---                 ┆ ---                 ┆ ---                ┆ ---                ┆ f64        │\n",
       "│ i64                 ┆ f64                 ┆ f64                ┆ f64                ┆            │\n",
       "╞═════════════════════╪═════════════════════╪════════════════════╪════════════════════╪════════════╡\n",
       "│ 0                   ┆ 0.321008            ┆ 0.503018           ┆ 0.214188           ┆ 0.530803   │\n",
       "│ 0                   ┆ 0.093153            ┆ 0.977483           ┆ 0.304878           ┆ 0.530803   │\n",
       "│ 0                   ┆ 0.4098              ┆ 0.295023           ┆ 0.324504           ┆ 0.530803   │\n",
       "│ 1                   ┆ 0.415314            ┆ 0.559718           ┆ 0.205598           ┆ 0.305812   │\n",
       "│ 1                   ┆ 0.526229            ┆ 0.789693           ┆ 0.17743            ┆ 0.305812   │\n",
       "│ 1                   ┆ 0.570174            ┆ 0.819005           ┆ 0.974609           ┆ 0.305812   │\n",
       "└─────────────────────┴─────────────────────┴────────────────────┴────────────────────┴────────────┘)"
      ]
     },
     "execution_count": 206,
     "metadata": {},
     "output_type": "execute_result"
    }
   ],
   "source": [
    "trxparquet.init_example_trxparquet(2, 3, 1)"
   ]
  },
  {
   "cell_type": "markdown",
   "metadata": {},
   "source": [
    "Analogously, data that is associated with individual points will have the prefix \"dpv_\"."
   ]
  },
  {
   "cell_type": "code",
   "execution_count": 207,
   "metadata": {},
   "outputs": [
    {
     "data": {
      "text/plain": [
       "TrxParquet(header=TrxHeader(DIMENSIONS=array([20, 20, 20], dtype=uint16), VOXEL_TO_RASMM=array([[20.,  0.,  0.,  0.],\n",
       "       [ 0., 20.,  0.,  0.],\n",
       "       [ 0.,  0., 20.,  0.],\n",
       "       [ 0.,  0.,  0.,  1.]], dtype=float32)), data=shape: (6, 6)\n",
       "┌──────────────────┬─────────────────┬─────────────────┬─────────────────┬────────────┬────────────┐\n",
       "│ protected_stream ┆ protected_posit ┆ protected_posit ┆ protected_posit ┆ dps_siwehr ┆ dpv_nfohed │\n",
       "│ line             ┆ ion_0           ┆ ion_1           ┆ ion_2           ┆ ---        ┆ ---        │\n",
       "│ ---              ┆ ---             ┆ ---             ┆ ---             ┆ f64        ┆ f64        │\n",
       "│ i64              ┆ f64             ┆ f64             ┆ f64             ┆            ┆            │\n",
       "╞══════════════════╪═════════════════╪═════════════════╪═════════════════╪════════════╪════════════╡\n",
       "│ 0                ┆ 0.336253        ┆ 0.298366        ┆ 0.332231        ┆ 0.287658   ┆ 0.174158   │\n",
       "│ 0                ┆ 0.672749        ┆ 0.622136        ┆ 0.658902        ┆ 0.287658   ┆ 0.278718   │\n",
       "│ 0                ┆ 0.80198         ┆ 0.33668         ┆ 0.294973        ┆ 0.287658   ┆ 0.185681   │\n",
       "│ 1                ┆ 0.683855        ┆ 0.378397        ┆ 0.70093         ┆ 0.520752   ┆ 0.218851   │\n",
       "│ 1                ┆ 0.697841        ┆ 0.420864        ┆ 0.827945        ┆ 0.520752   ┆ 0.121011   │\n",
       "│ 1                ┆ 0.245686        ┆ 0.139722        ┆ 0.540084        ┆ 0.520752   ┆ 0.584473   │\n",
       "└──────────────────┴─────────────────┴─────────────────┴─────────────────┴────────────┴────────────┘)"
      ]
     },
     "execution_count": 207,
     "metadata": {},
     "output_type": "execute_result"
    }
   ],
   "source": [
    "trx = trxparquet.init_example_trxparquet(2, 3, 1, 1)\n",
    "trx"
   ]
  },
  {
   "cell_type": "markdown",
   "metadata": {},
   "source": [
    "These objects can also be converted into `StatefulTractogram`s using the `to_stf()` method."
   ]
  },
  {
   "cell_type": "code",
   "execution_count": 208,
   "metadata": {},
   "outputs": [
    {
     "data": {
      "text/plain": [
       "ArraySequence([array([[0.89317422, 0.7977596 , 0.3516565 ],\n",
       "       [0.83625061, 0.05822647, 0.53686733],\n",
       "       [0.97521793, 0.29906299, 0.15221995]]), array([[0.07765206, 0.40298642, 0.15323251],\n",
       "       [0.76250452, 0.51570536, 0.37552104],\n",
       "       [0.4322841 , 0.82248218, 0.14803168]])])"
      ]
     },
     "execution_count": 208,
     "metadata": {},
     "output_type": "execute_result"
    }
   ],
   "source": [
    "stf = trxparquet.init_example_trxparquet(2, 3, 1, 1).to_stf()\n",
    "stf.streamlines"
   ]
  },
  {
   "cell_type": "markdown",
   "metadata": {},
   "source": [
    "The assumption is that, by relying on the parquet format, we get get to leverage all of the work that has gone into making this an efficient medium for analysis. For example, let's create a file that has 1000000 streamlines, each with 100 points, checking the size of the file and how long it takes to load into memory."
   ]
  },
  {
   "cell_type": "code",
   "execution_count": 209,
   "metadata": {},
   "outputs": [
    {
     "name": "stdout",
     "output_type": "stream",
     "text": [
      "file_size=2435918725\n",
      "object_size=3051.7578125\n",
      "reading time: 3.426846981048584\n"
     ]
    }
   ],
   "source": [
    "import tempfile\n",
    "import time\n",
    "from pathlib import Path\n",
    "\n",
    "\n",
    "with tempfile.NamedTemporaryFile(suffix=\".parquet\") as _f:\n",
    "    f = Path(_f.name)\n",
    "    trx = trxparquet.init_example_trxparquet(1000000, 100)\n",
    "    trx.to_file(f)\n",
    "    file_size = f.stat().st_size\n",
    "    start = time.time()\n",
    "    trx2 = trx.from_file(f, loadtype=\"memory\")\n",
    "    end = time.time()\n",
    "\n",
    "object_size = trx2.data.estimated_size(\"mb\")\n",
    "print(f\"{file_size=}\")\n",
    "print(f\"{object_size=}\")\n",
    "print(f\"reading time: {end - start}\")\n",
    "\n",
    "trx2\n",
    "del trx, trx2"
   ]
  },
  {
   "cell_type": "markdown",
   "metadata": {},
   "source": [
    "There are different ways of loading parquet files, each optimized for different purposes. The previous cell loaded everything into memory. If only some streamlines need to be processed (or only some columns), then Lazy loading has many advantages. See: https://pola-rs.github.io/polars/user-guide/concepts/lazy-vs-eager/ . The reading time for lazy loading is minimal, but we can still extract useful information from the result."
   ]
  },
  {
   "cell_type": "code",
   "execution_count": 210,
   "metadata": {},
   "outputs": [
    {
     "name": "stdout",
     "output_type": "stream",
     "text": [
      "reading time: 0.565061092376709\n",
      "n_streamlines_in_file=1000000\n"
     ]
    }
   ],
   "source": [
    "with tempfile.NamedTemporaryFile(suffix=\".parquet\") as _f:\n",
    "    f = Path(_f.name)\n",
    "    trx = trxparquet.init_example_trxparquet(1000000, 100)\n",
    "    trx.to_file(f)\n",
    "    start = time.time()\n",
    "    trx2 = trx.from_file(f, loadtype=\"lazy\")\n",
    "    n_streamlines_in_file = trx2.n_streamlines\n",
    "    end = time.time()\n",
    "\n",
    "print(f\"reading time: {end - start}\")\n",
    "print(f\"{n_streamlines_in_file=}\")\n",
    "del trx, trx2"
   ]
  },
  {
   "cell_type": "markdown",
   "metadata": {},
   "source": [
    "Although unidimensional series (columns) have the best support, columns can store multi-dimensional arrays. For example, let's load data from `trx-python`."
   ]
  },
  {
   "cell_type": "code",
   "execution_count": 211,
   "metadata": {},
   "outputs": [
    {
     "data": {
      "text/plain": [
       "TrxParquet(header=TrxHeader(DIMENSIONS=array([ 5, 10, 20], dtype=uint16), VOXEL_TO_RASMM=array([[ 3.9696155e+00, -2.4557561e-01,  7.5961235e-03,  1.2082228e+01],\n",
       "       [ 4.9115121e-01,  1.9696155e+00, -1.2278780e-01,  2.2164438e+01],\n",
       "       [ 3.0384494e-02,  2.4557561e-01,  9.9240386e-01,  3.7917774e+01],\n",
       "       [ 0.0000000e+00,  0.0000000e+00,  0.0000000e+00,  1.0000000e+00]],\n",
       "      dtype=float32)), data=shape: (104, 8)\n",
       "┌────────────┬────────────┬────────────┬───────────┬───────────┬───────────┬───────────┬───────────┐\n",
       "│ protected_ ┆ protected_ ┆ protected_ ┆ protected ┆ dps_rando ┆ dpv_color ┆ dpv_color ┆ dpv_color │\n",
       "│ streamline ┆ position_0 ┆ position_1 ┆ _position ┆ m_coord   ┆ _y        ┆ _x        ┆ _z        │\n",
       "│ ---        ┆ ---        ┆ ---        ┆ _2        ┆ ---       ┆ ---       ┆ ---       ┆ ---       │\n",
       "│ i64        ┆ f32        ┆ f32        ┆ ---       ┆ array[f32 ┆ array[f32 ┆ array[f32 ┆ array[f32 │\n",
       "│            ┆            ┆            ┆ f32       ┆ , 3]      ┆ , 1]      ┆ , 1]      ┆ , 1]      │\n",
       "╞════════════╪════════════╪════════════╪═══════════╪═══════════╪═══════════╪═══════════╪═══════════╡\n",
       "│ 0          ┆ 11.149319  ┆ 21.579943  ┆ 37.600685 ┆ [7.0,     ┆ [20.0]    ┆ [220.0]   ┆ [60.0]    │\n",
       "│            ┆            ┆            ┆           ┆ 1.0, 5.0] ┆           ┆           ┆           │\n",
       "│ 0          ┆ 11.153116  ┆ 21.518549  ┆ 38.096886 ┆ [7.0,     ┆ [20.0]    ┆ [220.0]   ┆ [60.0]    │\n",
       "│            ┆            ┆            ┆           ┆ 1.0, 5.0] ┆           ┆           ┆           │\n",
       "│ 0          ┆ 11.02653   ┆ 22.564751  ┆ 37.723473 ┆ [7.0,     ┆ [20.0]    ┆ [220.0]   ┆ [60.0]    │\n",
       "│            ┆            ┆            ┆           ┆ 1.0, 5.0] ┆           ┆           ┆           │\n",
       "│ 0          ┆ 11.030329  ┆ 22.503357  ┆ 38.219673 ┆ [7.0,     ┆ [20.0]    ┆ [220.0]   ┆ [60.0]    │\n",
       "│            ┆            ┆            ┆           ┆ 1.0, 5.0] ┆           ┆           ┆           │\n",
       "│ …          ┆ …          ┆ …          ┆ …         ┆ …         ┆ …         ┆ …         ┆ …         │\n",
       "│ 12         ┆ 16.374611  ┆ 28.10273   ┆ 39.375393 ┆ [7.0,     ┆ [255.0]   ┆ [0.0]     ┆ [0.0]     │\n",
       "│            ┆            ┆            ┆           ┆ 9.0, 8.0] ┆           ┆           ┆           │\n",
       "│ 12         ┆ 16.378408  ┆ 28.041336  ┆ 39.871593 ┆ [7.0,     ┆ [255.0]   ┆ [0.0]     ┆ [0.0]     │\n",
       "│            ┆            ┆            ┆           ┆ 9.0, 8.0] ┆           ┆           ┆           │\n",
       "│ 12         ┆ 16.251823  ┆ 29.087536  ┆ 39.49818  ┆ [7.0,     ┆ [255.0]   ┆ [0.0]     ┆ [0.0]     │\n",
       "│            ┆            ┆            ┆           ┆ 9.0, 8.0] ┆           ┆           ┆           │\n",
       "│ 12         ┆ 16.255621  ┆ 29.026142  ┆ 39.994381 ┆ [7.0,     ┆ [255.0]   ┆ [0.0]     ┆ [0.0]     │\n",
       "│            ┆            ┆            ┆           ┆ 9.0, 8.0] ┆           ┆           ┆           │\n",
       "└────────────┴────────────┴────────────┴───────────┴───────────┴───────────┴───────────┴───────────┘)"
      ]
     },
     "execution_count": 211,
     "metadata": {},
     "output_type": "execute_result"
    }
   ],
   "source": [
    "import os\n",
    "from trx import fetcher\n",
    "\n",
    "with tempfile.TemporaryDirectory() as tmp_d:\n",
    "    os.environ[\"TRX_HOME\"] = str(tmp_d)\n",
    "    data = {\n",
    "        k: v\n",
    "        for k, v in fetcher.get_testing_files_dict().items()\n",
    "        if k == \"gold_standard.zip\"\n",
    "    }\n",
    "    fetcher.fetch_data(data)\n",
    "    del os.environ[\"TRX_HOME\"]\n",
    "\n",
    "    out = trxparquet.TrxParquet.from_trx_file(\n",
    "        tmp_d + \"/gold_standard/gs_fldr.trx\"\n",
    "    )\n",
    "\n",
    "out"
   ]
  },
  {
   "cell_type": "markdown",
   "metadata": {},
   "source": [
    "For a few additional examples, please see the tests."
   ]
  },
  {
   "cell_type": "markdown",
   "metadata": {},
   "source": [
    "Note that, at the time of writing, no group-level information has been incorporated into the prototype."
   ]
  }
 ],
 "metadata": {
  "kernelspec": {
   "display_name": "trx-polars",
   "language": "python",
   "name": "python3"
  },
  "language_info": {
   "codemirror_mode": {
    "name": "ipython",
    "version": 3
   },
   "file_extension": ".py",
   "mimetype": "text/x-python",
   "name": "python",
   "nbconvert_exporter": "python",
   "pygments_lexer": "ipython3",
   "version": "3.10.6"
  }
 },
 "nbformat": 4,
 "nbformat_minor": 2
}

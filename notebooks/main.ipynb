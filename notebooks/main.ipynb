{
 "cells": [
  {
   "cell_type": "markdown",
   "metadata": {},
   "source": [
    "This notebook demonstrates a prototype of a TRX file that leverages the parquet format."
   ]
  },
  {
   "cell_type": "code",
   "execution_count": 129,
   "metadata": {},
   "outputs": [],
   "source": [
    "from trx_parquet import trxparquet"
   ]
  },
  {
   "cell_type": "markdown",
   "metadata": {},
   "source": [
    "The primary class is `TrxParquet`. It contains two key attributes, `header` and `data`. The attribute `header` aims to store the minimal amount of information necessary for processing and conversion to other formats (e.g., to a `StatefulTractogram`) . The `data` attribute contains most of the tractography information."
   ]
  },
  {
   "cell_type": "markdown",
   "metadata": {},
   "source": [
    "To get started, see `init_example_trxparquet`, which initializes in-memory representations of trxparquet files with given characteristics and random data. For example, we can initialize two streamlines, each having 3 points."
   ]
  },
  {
   "cell_type": "code",
   "execution_count": 130,
   "metadata": {},
   "outputs": [
    {
     "data": {
      "text/plain": [
       "TrxParquet(header=TrxHeader(DIMENSIONS=array([20, 20, 20], dtype=uint16), VOXEL_TO_RASMM=array([[20.,  0.,  0.,  0.],\n",
       "       [ 0., 20.,  0.,  0.],\n",
       "       [ 0.,  0., 20.,  0.],\n",
       "       [ 0.,  0.,  0.,  1.]], dtype=float32)), data=shape: (6, 4)\n",
       "┌──────────────────────┬──────────────────────┬──────────────────────┬──────────────────────┐\n",
       "│ protected_streamline ┆ protected_position_0 ┆ protected_position_1 ┆ protected_position_2 │\n",
       "│ ---                  ┆ ---                  ┆ ---                  ┆ ---                  │\n",
       "│ i64                  ┆ f64                  ┆ f64                  ┆ f64                  │\n",
       "╞══════════════════════╪══════════════════════╪══════════════════════╪══════════════════════╡\n",
       "│ 0                    ┆ 0.104095             ┆ 0.367879             ┆ 0.156608             │\n",
       "│ 0                    ┆ 0.322367             ┆ 0.094719             ┆ 0.835469             │\n",
       "│ 0                    ┆ 0.393296             ┆ 0.862992             ┆ 0.657525             │\n",
       "│ 1                    ┆ 0.110826             ┆ 0.137397             ┆ 0.040029             │\n",
       "│ 1                    ┆ 0.504184             ┆ 0.553927             ┆ 0.899979             │\n",
       "│ 1                    ┆ 0.59598              ┆ 0.9557               ┆ 0.869031             │\n",
       "└──────────────────────┴──────────────────────┴──────────────────────┴──────────────────────┘)"
      ]
     },
     "execution_count": 130,
     "metadata": {},
     "output_type": "execute_result"
    }
   ],
   "source": [
    "trxparquet.init_example_trxparquet(2, 3)"
   ]
  },
  {
   "cell_type": "markdown",
   "metadata": {},
   "source": [
    "In the trxparquet itself (on disk and in memory), the `header` is stored via frame-level metadata (e.g., of the kind readable by https://arrow.apache.org/docs/python/generated/pyarrow.parquet.read_metadata.html). \n",
    "\n",
    "The `data` attribute always contains at least four columns, each of which have the prefix \"protected_\". These columns represent \n",
    "- An index for streamline\n",
    "- 3 columns representing the coordinates of each point/vertex within each streamline. \n",
    "\n",
    "That is, rows in the data correspond to points or vertices."
   ]
  },
  {
   "cell_type": "markdown",
   "metadata": {},
   "source": [
    "Data that is associated with each streamline is stored in columns that have the prefix \"dps_\". The function `init_example_trxparquet` can be used to create a this kind of column. The column label includes a random string."
   ]
  },
  {
   "cell_type": "code",
   "execution_count": 131,
   "metadata": {},
   "outputs": [
    {
     "data": {
      "text/plain": [
       "TrxParquet(header=TrxHeader(DIMENSIONS=array([20, 20, 20], dtype=uint16), VOXEL_TO_RASMM=array([[20.,  0.,  0.,  0.],\n",
       "       [ 0., 20.,  0.,  0.],\n",
       "       [ 0.,  0., 20.,  0.],\n",
       "       [ 0.,  0.,  0.,  1.]], dtype=float32)), data=shape: (6, 5)\n",
       "┌─────────────────────┬─────────────────────┬────────────────────┬────────────────────┬────────────┐\n",
       "│ protected_streamlin ┆ protected_position_ ┆ protected_position ┆ protected_position ┆ dps_wdhngw │\n",
       "│ e                   ┆ 0                   ┆ _1                 ┆ _2                 ┆ ---        │\n",
       "│ ---                 ┆ ---                 ┆ ---                ┆ ---                ┆ f64        │\n",
       "│ i64                 ┆ f64                 ┆ f64                ┆ f64                ┆            │\n",
       "╞═════════════════════╪═════════════════════╪════════════════════╪════════════════════╪════════════╡\n",
       "│ 0                   ┆ 0.6264              ┆ 0.336591           ┆ 0.460365           ┆ 0.536567   │\n",
       "│ 0                   ┆ 0.118657            ┆ 0.077311           ┆ 0.630899           ┆ 0.536567   │\n",
       "│ 0                   ┆ 0.149543            ┆ 0.630749           ┆ 0.210242           ┆ 0.536567   │\n",
       "│ 1                   ┆ 0.517319            ┆ 0.47972            ┆ 0.104758           ┆ 0.0926     │\n",
       "│ 1                   ┆ 0.011228            ┆ 0.641535           ┆ 0.347725           ┆ 0.0926     │\n",
       "│ 1                   ┆ 0.751093            ┆ 0.154385           ┆ 0.225323           ┆ 0.0926     │\n",
       "└─────────────────────┴─────────────────────┴────────────────────┴────────────────────┴────────────┘)"
      ]
     },
     "execution_count": 131,
     "metadata": {},
     "output_type": "execute_result"
    }
   ],
   "source": [
    "trxparquet.init_example_trxparquet(2, 3, 1)"
   ]
  },
  {
   "cell_type": "markdown",
   "metadata": {},
   "source": [
    "Analogously, data that is associated with individual points will have the prefix \"dpv_\"."
   ]
  },
  {
   "cell_type": "code",
   "execution_count": 132,
   "metadata": {},
   "outputs": [
    {
     "data": {
      "text/plain": [
       "TrxParquet(header=TrxHeader(DIMENSIONS=array([20, 20, 20], dtype=uint16), VOXEL_TO_RASMM=array([[20.,  0.,  0.,  0.],\n",
       "       [ 0., 20.,  0.,  0.],\n",
       "       [ 0.,  0., 20.,  0.],\n",
       "       [ 0.,  0.,  0.,  1.]], dtype=float32)), data=shape: (6, 6)\n",
       "┌──────────────────┬─────────────────┬─────────────────┬─────────────────┬────────────┬────────────┐\n",
       "│ protected_stream ┆ protected_posit ┆ protected_posit ┆ protected_posit ┆ dps_agrgim ┆ dpv_rxqiyg │\n",
       "│ line             ┆ ion_0           ┆ ion_1           ┆ ion_2           ┆ ---        ┆ ---        │\n",
       "│ ---              ┆ ---             ┆ ---             ┆ ---             ┆ f64        ┆ f64        │\n",
       "│ i64              ┆ f64             ┆ f64             ┆ f64             ┆            ┆            │\n",
       "╞══════════════════╪═════════════════╪═════════════════╪═════════════════╪════════════╪════════════╡\n",
       "│ 0                ┆ 0.737583        ┆ 0.718963        ┆ 0.502101        ┆ 0.119252   ┆ 0.525692   │\n",
       "│ 0                ┆ 0.654439        ┆ 0.728295        ┆ 0.366697        ┆ 0.119252   ┆ 0.885929   │\n",
       "│ 0                ┆ 0.48574         ┆ 0.201337        ┆ 0.512064        ┆ 0.119252   ┆ 0.759128   │\n",
       "│ 1                ┆ 0.165918        ┆ 0.784233        ┆ 0.088916        ┆ 0.769366   ┆ 0.517934   │\n",
       "│ 1                ┆ 0.672848        ┆ 0.343117        ┆ 0.678372        ┆ 0.769366   ┆ 0.859202   │\n",
       "│ 1                ┆ 0.168938        ┆ 0.843871        ┆ 0.538503        ┆ 0.769366   ┆ 0.131322   │\n",
       "└──────────────────┴─────────────────┴─────────────────┴─────────────────┴────────────┴────────────┘)"
      ]
     },
     "execution_count": 132,
     "metadata": {},
     "output_type": "execute_result"
    }
   ],
   "source": [
    "trx = trxparquet.init_example_trxparquet(2, 3, 1, 1)\n",
    "trx"
   ]
  },
  {
   "cell_type": "markdown",
   "metadata": {},
   "source": [
    "The class definition currently includes examples of how to convert `data` into other formats. For example, we can check the property `data_per_streamline`."
   ]
  },
  {
   "cell_type": "code",
   "execution_count": 133,
   "metadata": {},
   "outputs": [
    {
     "data": {
      "text/plain": [
       "{'agrgim': array([0.11925193, 0.7693661 ])}"
      ]
     },
     "execution_count": 133,
     "metadata": {},
     "output_type": "execute_result"
    }
   ],
   "source": [
    "trx.data_per_streamline"
   ]
  },
  {
   "cell_type": "markdown",
   "metadata": {},
   "source": [
    "These objects can also be converted into `StatefulTractogram`s using the `to_stf()` method."
   ]
  },
  {
   "cell_type": "code",
   "execution_count": 134,
   "metadata": {},
   "outputs": [
    {
     "data": {
      "text/plain": [
       "ArraySequence([array([[0.82882452, 0.35002227, 0.04021338],\n",
       "       [0.96465397, 0.75503713, 0.44132372],\n",
       "       [0.88005523, 0.10074626, 0.79360455]]), array([[0.40830941, 0.9388673 , 0.47021548],\n",
       "       [0.98084664, 0.60376713, 0.70710437],\n",
       "       [0.57530037, 0.0532212 , 0.15005235]])])"
      ]
     },
     "execution_count": 134,
     "metadata": {},
     "output_type": "execute_result"
    }
   ],
   "source": [
    "stf = trxparquet.init_example_trxparquet(2, 3, 1, 1).to_stf()\n",
    "stf.streamlines"
   ]
  },
  {
   "cell_type": "markdown",
   "metadata": {},
   "source": [
    "The assumption is that, by relying on the parquet format, we get get to leverage all of the work that has gone into making this an efficient medium for analysis. For example, let's create a file that has 100000 streamlines, each with 100 points, checking the size of the file and how long it takes to load as a memory map."
   ]
  },
  {
   "cell_type": "code",
   "execution_count": 135,
   "metadata": {},
   "outputs": [
    {
     "name": "stdout",
     "output_type": "stream",
     "text": [
      "file_size='2GB'\n",
      "object_size=3051.7578125\n",
      "reading time: 4.9398720264434814\n"
     ]
    }
   ],
   "source": [
    "import tempfile\n",
    "import time\n",
    "from pathlib import Path\n",
    "\n",
    "\n",
    "def human_size(bytes, units=[\" bytes\", \"KB\", \"MB\", \"GB\", \"TB\", \"PB\", \"EB\"]):\n",
    "    \"\"\"Returns a human readable string representation of bytes\"\"\"\n",
    "    return str(bytes) + units[0] if bytes < 1024 else human_size(bytes >> 10, units[1:])\n",
    "\n",
    "\n",
    "with tempfile.NamedTemporaryFile(suffix=\".parquet\") as _f:\n",
    "    f = Path(_f.name)\n",
    "    trx = trxparquet.init_example_trxparquet(1000000, 100)\n",
    "    trx.to_file(f)\n",
    "    file_size = human_size(f.stat().st_size)\n",
    "    start = time.time()\n",
    "    trx2 = trx.from_file(f, loadtype=\"memory_map\")\n",
    "    end = time.time()\n",
    "\n",
    "object_size = trx2.data.estimated_size(\"mb\")\n",
    "print(f\"{file_size=}\")\n",
    "print(f\"{object_size=}\")\n",
    "print(f\"reading time: {end - start}\")\n",
    "\n",
    "trx2\n",
    "del trx, trx2"
   ]
  },
  {
   "cell_type": "markdown",
   "metadata": {},
   "source": [
    "There are different ways of loading parquet files, each optimized for different purposes. The previous cell loaded files as a memory map. If only some streamlines need to be processed (or only some columns), then Lazy loading has many advantages. See: https://pola-rs.github.io/polars/user-guide/concepts/lazy-vs-eager/ . The reading time for lazy loading is minimal, but we can still extract useful information from the result."
   ]
  },
  {
   "cell_type": "code",
   "execution_count": 136,
   "metadata": {},
   "outputs": [
    {
     "name": "stdout",
     "output_type": "stream",
     "text": [
      "reading time: 0.5708091259002686\n",
      "n_streamlines_in_file=1000000\n"
     ]
    }
   ],
   "source": [
    "with tempfile.NamedTemporaryFile(suffix=\".parquet\") as _f:\n",
    "    f = Path(_f.name)\n",
    "    trx = trxparquet.init_example_trxparquet(1000000, 100)\n",
    "    trx.to_file(f)\n",
    "    start = time.time()\n",
    "    trx2 = trx.from_file(f, loadtype=\"lazy\")\n",
    "    n_streamlines_in_file = trx2.n_streamlines\n",
    "    end = time.time()\n",
    "\n",
    "print(f\"reading time: {end - start}\")\n",
    "print(f\"{n_streamlines_in_file=}\")\n",
    "del trx, trx2"
   ]
  },
  {
   "cell_type": "markdown",
   "metadata": {},
   "source": [
    "Even when files are loaded into memory, the process is remains speedy."
   ]
  },
  {
   "cell_type": "code",
   "execution_count": 137,
   "metadata": {},
   "outputs": [
    {
     "name": "stdout",
     "output_type": "stream",
     "text": [
      "object_size=3051.7578125 MB\n",
      "reading time: 2.519637107849121\n"
     ]
    }
   ],
   "source": [
    "with tempfile.NamedTemporaryFile(suffix=\".parquet\") as _f:\n",
    "    f = Path(_f.name)\n",
    "    trx = trxparquet.init_example_trxparquet(1000000, 100)\n",
    "    trx.to_file(f)\n",
    "    start = time.time()\n",
    "    trx2 = trx.from_file(f, loadtype=\"memory\")\n",
    "    end = time.time()\n",
    "\n",
    "object_size = trx2.data.estimated_size(\"mb\")\n",
    "print(f\"{object_size=} MB\")\n",
    "print(f\"reading time: {end - start}\")\n",
    "del trx, trx2"
   ]
  },
  {
   "cell_type": "markdown",
   "metadata": {},
   "source": [
    "Although unidimensional series (columns) have the best support, columns can store multi-dimensional arrays. For example, let's load data from `trx-python`."
   ]
  },
  {
   "cell_type": "code",
   "execution_count": 138,
   "metadata": {},
   "outputs": [
    {
     "data": {
      "text/plain": [
       "TrxParquet(header=TrxHeader(DIMENSIONS=array([ 5, 10, 20], dtype=uint16), VOXEL_TO_RASMM=array([[ 3.9696155e+00, -2.4557561e-01,  7.5961235e-03,  1.2082228e+01],\n",
       "       [ 4.9115121e-01,  1.9696155e+00, -1.2278780e-01,  2.2164438e+01],\n",
       "       [ 3.0384494e-02,  2.4557561e-01,  9.9240386e-01,  3.7917774e+01],\n",
       "       [ 0.0000000e+00,  0.0000000e+00,  0.0000000e+00,  1.0000000e+00]],\n",
       "      dtype=float32)), data=shape: (104, 8)\n",
       "┌────────────┬────────────┬────────────┬───────────┬───────────┬───────────┬───────────┬───────────┐\n",
       "│ protected_ ┆ protected_ ┆ protected_ ┆ protected ┆ dps_rando ┆ dpv_color ┆ dpv_color ┆ dpv_color │\n",
       "│ streamline ┆ position_0 ┆ position_1 ┆ _position ┆ m_coord   ┆ _y        ┆ _x        ┆ _z        │\n",
       "│ ---        ┆ ---        ┆ ---        ┆ _2        ┆ ---       ┆ ---       ┆ ---       ┆ ---       │\n",
       "│ i64        ┆ f32        ┆ f32        ┆ ---       ┆ array[f32 ┆ array[f32 ┆ array[f32 ┆ array[f32 │\n",
       "│            ┆            ┆            ┆ f32       ┆ , 3]      ┆ , 1]      ┆ , 1]      ┆ , 1]      │\n",
       "╞════════════╪════════════╪════════════╪═══════════╪═══════════╪═══════════╪═══════════╪═══════════╡\n",
       "│ 0          ┆ 11.149319  ┆ 21.579943  ┆ 37.600685 ┆ [7.0,     ┆ [20.0]    ┆ [220.0]   ┆ [60.0]    │\n",
       "│            ┆            ┆            ┆           ┆ 1.0, 5.0] ┆           ┆           ┆           │\n",
       "│ 0          ┆ 11.153116  ┆ 21.518549  ┆ 38.096886 ┆ [7.0,     ┆ [20.0]    ┆ [220.0]   ┆ [60.0]    │\n",
       "│            ┆            ┆            ┆           ┆ 1.0, 5.0] ┆           ┆           ┆           │\n",
       "│ 0          ┆ 11.02653   ┆ 22.564751  ┆ 37.723473 ┆ [7.0,     ┆ [20.0]    ┆ [220.0]   ┆ [60.0]    │\n",
       "│            ┆            ┆            ┆           ┆ 1.0, 5.0] ┆           ┆           ┆           │\n",
       "│ 0          ┆ 11.030329  ┆ 22.503357  ┆ 38.219673 ┆ [7.0,     ┆ [20.0]    ┆ [220.0]   ┆ [60.0]    │\n",
       "│            ┆            ┆            ┆           ┆ 1.0, 5.0] ┆           ┆           ┆           │\n",
       "│ …          ┆ …          ┆ …          ┆ …         ┆ …         ┆ …         ┆ …         ┆ …         │\n",
       "│ 12         ┆ 16.374611  ┆ 28.10273   ┆ 39.375393 ┆ [7.0,     ┆ [255.0]   ┆ [0.0]     ┆ [0.0]     │\n",
       "│            ┆            ┆            ┆           ┆ 9.0, 8.0] ┆           ┆           ┆           │\n",
       "│ 12         ┆ 16.378408  ┆ 28.041336  ┆ 39.871593 ┆ [7.0,     ┆ [255.0]   ┆ [0.0]     ┆ [0.0]     │\n",
       "│            ┆            ┆            ┆           ┆ 9.0, 8.0] ┆           ┆           ┆           │\n",
       "│ 12         ┆ 16.251823  ┆ 29.087536  ┆ 39.49818  ┆ [7.0,     ┆ [255.0]   ┆ [0.0]     ┆ [0.0]     │\n",
       "│            ┆            ┆            ┆           ┆ 9.0, 8.0] ┆           ┆           ┆           │\n",
       "│ 12         ┆ 16.255621  ┆ 29.026142  ┆ 39.994381 ┆ [7.0,     ┆ [255.0]   ┆ [0.0]     ┆ [0.0]     │\n",
       "│            ┆            ┆            ┆           ┆ 9.0, 8.0] ┆           ┆           ┆           │\n",
       "└────────────┴────────────┴────────────┴───────────┴───────────┴───────────┴───────────┴───────────┘)"
      ]
     },
     "execution_count": 138,
     "metadata": {},
     "output_type": "execute_result"
    }
   ],
   "source": [
    "import os\n",
    "from trx import fetcher\n",
    "\n",
    "with tempfile.TemporaryDirectory() as tmp_d:\n",
    "    os.environ[\"TRX_HOME\"] = str(tmp_d)\n",
    "    data = {\n",
    "        k: v\n",
    "        for k, v in fetcher.get_testing_files_dict().items()\n",
    "        if k == \"gold_standard.zip\"\n",
    "    }\n",
    "    fetcher.fetch_data(data)\n",
    "    del os.environ[\"TRX_HOME\"]\n",
    "\n",
    "    out = trxparquet.TrxParquet.from_trx_file(\n",
    "        tmp_d + \"/gold_standard/gs_fldr.trx\"\n",
    "    )\n",
    "\n",
    "out"
   ]
  },
  {
   "cell_type": "markdown",
   "metadata": {},
   "source": [
    "For a few additional examples, please see the tests."
   ]
  },
  {
   "cell_type": "markdown",
   "metadata": {},
   "source": [
    "Note that, at the time of writing, no group-level information has been incorporated into the prototype."
   ]
  }
 ],
 "metadata": {
  "kernelspec": {
   "display_name": "trx-polars",
   "language": "python",
   "name": "python3"
  },
  "language_info": {
   "codemirror_mode": {
    "name": "ipython",
    "version": 3
   },
   "file_extension": ".py",
   "mimetype": "text/x-python",
   "name": "python",
   "nbconvert_exporter": "python",
   "pygments_lexer": "ipython3",
   "version": "3.10.6"
  }
 },
 "nbformat": 4,
 "nbformat_minor": 2
}
